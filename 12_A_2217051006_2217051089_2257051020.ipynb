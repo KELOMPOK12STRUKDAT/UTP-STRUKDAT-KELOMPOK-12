{
  "nbformat": 4,
  "nbformat_minor": 0,
  "metadata": {
    "colab": {
      "provenance": []
    },
    "kernelspec": {
      "name": "python3",
      "display_name": "Python 3"
    },
    "language_info": {
      "name": "python"
    }
  },
  "cells": [
    {
      "cell_type": "code",
      "execution_count": 12,
      "metadata": {
        "colab": {
          "base_uri": "https://localhost:8080/",
          "height": 628
        },
        "id": "iFctUsvWSxgD",
        "outputId": "d685a1a0-1607-4813-cec3-aadf2950e96d"
      },
      "outputs": [
        {
          "output_type": "stream",
          "name": "stdout",
          "text": [
            "Kategori:\n",
            "T-Shirt \n",
            "Hoodie \n",
            "Sweater \n",
            "Pilih Kategori: Hoodie\n",
            "Daftar Hoodie:\n",
            "Dickies  - Rp 135000\n",
            "Everlast  - Rp 120000\n",
            "Fila  - Rp 145000\n",
            "Pilih Hoodie yang ingin dibeli: Fila\n",
            "Masukkan jumlah yang ingin dibeli: 1\n",
            "Harga Fila x 1 = Rp 145000\n",
            "Total sementara = Rp 145000\n",
            "Apakah anda ingin membeli ts lain? (ya/tidak) tidak\n",
            "Total harga = Rp 145000\n",
            "Masukkan alamat tujuan: b\n",
            "Metode pembayaran:\n",
            "COD\n",
            "Transfer\n",
            "Pilih metode pembayaran: COD\n",
            "Siapkan uang pas saat barang sampai\n"
          ]
        },
        {
          "output_type": "error",
          "ename": "TypeError",
          "evalue": "ignored",
          "traceback": [
            "\u001b[0;31m---------------------------------------------------------------------------\u001b[0m",
            "\u001b[0;31mTypeError\u001b[0m                                 Traceback (most recent call last)",
            "\u001b[0;32m<ipython-input-12-3855493489fb>\u001b[0m in \u001b[0;36m<cell line: 73>\u001b[0;34m()\u001b[0m\n\u001b[1;32m     71\u001b[0m         \u001b[0mprint\u001b[0m\u001b[0;34m(\u001b[0m\u001b[0;34m\"Kelas : \"\u001b[0m\u001b[0;34m,\u001b[0m \u001b[0mself\u001b[0m\u001b[0;34m.\u001b[0m\u001b[0mkelas\u001b[0m\u001b[0;34m)\u001b[0m\u001b[0;34m\u001b[0m\u001b[0;34m\u001b[0m\u001b[0m\n\u001b[1;32m     72\u001b[0m \u001b[0;34m\u001b[0m\u001b[0m\n\u001b[0;32m---> 73\u001b[0;31m \u001b[0mmahasiswa1\u001b[0m \u001b[0;34m=\u001b[0m \u001b[0mMahasiswa\u001b[0m\u001b[0;34m(\u001b[0m\u001b[0;34m\"M. Gusti Saibathin\"\u001b[0m\u001b[0;34m,\u001b[0m \u001b[0;34m\"2217051006\"\u001b[0m\u001b[0;34m,\u001b[0m \u001b[0;34m\"A\"\u001b[0m\u001b[0;34m)\u001b[0m\u001b[0;34m\u001b[0m\u001b[0;34m\u001b[0m\u001b[0m\n\u001b[0m\u001b[1;32m     74\u001b[0m \u001b[0mmahasiswa2\u001b[0m \u001b[0;34m=\u001b[0m \u001b[0mMahasiswa\u001b[0m\u001b[0;34m(\u001b[0m\u001b[0;34m\"Bimo Laksono\"\u001b[0m\u001b[0;34m,\u001b[0m \u001b[0;34m\"2217051089\"\u001b[0m\u001b[0;34m,\u001b[0m \u001b[0;34m\"A\"\u001b[0m\u001b[0;34m)\u001b[0m\u001b[0;34m\u001b[0m\u001b[0;34m\u001b[0m\u001b[0m\n\u001b[1;32m     75\u001b[0m \u001b[0mmahasiswa3\u001b[0m \u001b[0;34m=\u001b[0m \u001b[0mMahasiswa\u001b[0m\u001b[0;34m(\u001b[0m\u001b[0;34m\"Ridho Ramadhan Almahbi\"\u001b[0m\u001b[0;34m,\u001b[0m \u001b[0;34m\"2257051020\"\u001b[0m\u001b[0;34m,\u001b[0m \u001b[0;34m\"A\"\u001b[0m\u001b[0;34m)\u001b[0m\u001b[0;34m\u001b[0m\u001b[0;34m\u001b[0m\u001b[0m\n",
            "\u001b[0;31mTypeError\u001b[0m: Mahasiswa() takes no arguments"
          ]
        }
      ],
      "source": [
        "kategori = [\"T-Shirt \", \"Hoodie \", \"Sweater \"]\n",
        "ts = {\"Uniqlo\": 75000, \"Champion\": 100000, \"Nike\": 115000}\n",
        "sweater = {\"GAP\": 125000, \"H&M\": 150000, \"Adidas\": 175000}\n",
        "hoodie = {\"Dickies\": 135000, \"Everlast\": 120000, \"Fila\": 145000}\n",
        "mp = [\"COD\", \"Transfer\"]\n",
        "\n",
        "total_harga = 0\n",
        "\n",
        "while True:\n",
        "    print(\"Kategori:\")\n",
        "    for s in kategori:\n",
        "      print(s)\n",
        "    opsi = input(\"Pilih Kategori: \")\n",
        "    if opsi == \"T-Shirt\" :\n",
        "      print(\"Daftar T-Shirt:\")\n",
        "      for item in ts:\n",
        "        print(item, \" - Rp\", ts[item])\n",
        "      pilihan = input(\"Pilih T-Shirt yang ingin dibeli: \")\n",
        "      jumlah = int(input(\"Masukkan jumlah yang ingin dibeli: \"))\n",
        "      harga = ts.get(pilihan, 0) * jumlah\n",
        "      total_harga += harga\n",
        "      print(\"Harga\", pilihan, \"x\", jumlah, \"= Rp\", harga)\n",
        "      print(\"Total sementara = Rp\", total_harga)\n",
        "      print(\"Total harga = Rp\", total_harga) \n",
        "    elif opsi == \"Sweater\" :\n",
        "      print(\"Daftar Sweater:\")\n",
        "      for item in sweater:\n",
        "        print(item, \" - Rp\", sweater[item])\n",
        "      pilihan = input(\"Pilih Sweater yang ingin dibeli: \")\n",
        "      jumlah = int(input(\"Masukkan jumlah yang ingin dibeli: \"))\n",
        "      harga = sweater.get(pilihan, 0) * jumlah\n",
        "      total_harga += harga\n",
        "      print(\"Harga\", pilihan, \"x\", jumlah, \"= Rp\", harga)\n",
        "      print(\"Total sementara = Rp\", total_harga)\n",
        "    elif opsi == \"Hoodie\" :\n",
        "      print(\"Daftar Hoodie:\")\n",
        "      for item in hoodie:\n",
        "        print(item, \" - Rp\", hoodie[item])\n",
        "      pilihan = input(\"Pilih Hoodie yang ingin dibeli: \")\n",
        "      jumlah = int(input(\"Masukkan jumlah yang ingin dibeli: \"))\n",
        "      harga = hoodie.get(pilihan, 0) * jumlah\n",
        "      total_harga += harga\n",
        "      print(\"Harga\", pilihan, \"x\", jumlah, \"= Rp\", harga)\n",
        "      print(\"Total sementara = Rp\", total_harga)\n",
        "    \n",
        "    jawab = input(\"Apakah anda ingin membeli ts lain? (ya/tidak) \")\n",
        "    if jawab != \"ya\":\n",
        "      break\n",
        "    \n",
        "\n",
        "print(\"Total harga = Rp\", total_harga)\n",
        "input(\"Masukkan alamat tujuan: \")\n",
        "print(\"Metode pembayaran:\")\n",
        "for c in mp:\n",
        "  print(c)\n",
        "metode = input(\"Pilih metode pembayaran: \")\n",
        "if metode == \"COD\":\n",
        "  print(\"Siapkan uang pas saat barang sampai\")\n",
        "elif metode == \"Transfer\":\n",
        "  print(\"Barang akan dikirim setelah pembayaran selesai\")\n",
        "  \n",
        "  class Mahasiswa:\n",
        "    def _init_(self, nama, npm, kelas):\n",
        "        self.nama = nama\n",
        "        self.npm = npm\n",
        "        self.kelas = kelas\n",
        "    def anggota_kelompok(self):\n",
        "        print(\"Kelompok 12: \")\n",
        "        print(\"Nama : \", self.nama)\n",
        "        print(\"NPM : \", self.npm)\n",
        "        print(\"Kelas : \", self.kelas)\n",
        "\n",
        "mahasiswa1 = Mahasiswa(\"M. Gusti Saibathin\", \"2217051006\", \"A\")\n",
        "mahasiswa2 = Mahasiswa(\"Bimo Laksono\", \"2217051089\", \"A\")\n",
        "mahasiswa3 = Mahasiswa(\"Ridho Ramadhan Almahbi\", \"2257051020\", \"A\")\n",
        "\n",
        "kelompok = [mahasiswa1, mahasiswa2, mahasiswa3]\n",
        "\n",
        "print(\"Anggota Kelompok 12\")\n",
        "for mhs in kelompok:\n",
        "    mhs.anggota_kelompok()"
      ]
    }
  ]
}